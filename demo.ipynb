{
 "cells": [
  {
   "cell_type": "code",
   "execution_count": 1,
   "metadata": {},
   "outputs": [
    {
     "name": "stderr",
     "output_type": "stream",
     "text": [
      "/home/yasaisen/anaconda3/envs/hard2softPPO/lib/python3.10/site-packages/tqdm/auto.py:21: TqdmWarning: IProgress not found. Please update jupyter and ipywidgets. See https://ipywidgets.readthedocs.io/en/stable/user_install.html\n",
      "  from .autonotebook import tqdm as notebook_tqdm\n"
     ]
    },
    {
     "name": "stdout",
     "output_type": "stream",
     "text": [
      "loading from local...\n",
      "[15:34:45] [PrefixTuningPolicyModel] Building...\n",
      "[15:34:55] [PrefixTuningPolicyModel] checkpoint_path=./outputs/2508271528/2508271528_best_model.pth\n",
      "[15:34:55] [PrefixTuningPolicyModel] prefix_shape=torch.Size([97, 1152])\n",
      "[15:34:55] [PrefixTuningPolicyModel] max_length=453\n",
      "[15:34:55] [PrefixTuningPolicyModel] requires_grad=111744\n",
      "[15:34:55] [PrefixTuningPolicyModel] prefix_embeddings=111744\n",
      "[15:34:55] [PrefixTuningPolicyModel] prefix_embeddings=torch.Size([97, 1152])\n",
      "[15:34:55] [PrefixTuningPolicyModel] basemodel trainable params: 111744\n",
      "[15:34:56] [PrefixTuningPolicyModel] ...Done\n",
      "\n"
     ]
    }
   ],
   "source": [
    "from hardPrompt2softPrompt.models.policyModel.modeling_policyModel import PrefixTuningPolicyModel\n",
    "\n",
    "model = PrefixTuningPolicyModel.from_pretrained(\n",
    "    model_name='google/gemma-3-1b-it', \n",
    "    # ckpt_path='./outputs/2508271528/2508271528_best_model.pth'\n",
    ")"
   ]
  },
  {
   "cell_type": "code",
   "execution_count": 6,
   "metadata": {},
   "outputs": [],
   "source": [
    "asked_question = \"今天天氣如何\"\n",
    "\n",
    "conversation_history = [\n",
    "    {\n",
    "        'role': 'user', \n",
    "        'content': [{'type': 'text', 'text': '還行'}]\n",
    "    }, \n",
    "    {\n",
    "        'role': 'assistant', \n",
    "        'content': [{'type': 'text', 'text': '還行，但稍微有點悶熱吧？你覺得今天天氣怎麼樣呢？'}]\n",
    "    }, \n",
    "    {\n",
    "        'role': 'user', \n",
    "        'content': [{'type': 'text', 'text': '我覺得還好，不會到很熱'}]\n",
    "    }, \n",
    "]"
   ]
  },
  {
   "cell_type": "code",
   "execution_count": 7,
   "metadata": {},
   "outputs": [
    {
     "name": "stdout",
     "output_type": "stream",
     "text": [
      "嗯，那聽起來不錯。你覺得今天天氣還好嗎？有沒有什麼特別的感受嗎？\n"
     ]
    }
   ],
   "source": [
    "conversation_history = model.generate_response( \n",
    "    asked_question=asked_question, \n",
    "    conversation_history=conversation_history, \n",
    "    temperature=0.7, \n",
    ")\n",
    "response = conversation_history[-1]['content'][0]['text']\n",
    "print(response)"
   ]
  }
 ],
 "metadata": {
  "kernelspec": {
   "display_name": "hard2softPPO",
   "language": "python",
   "name": "python3"
  },
  "language_info": {
   "codemirror_mode": {
    "name": "ipython",
    "version": 3
   },
   "file_extension": ".py",
   "mimetype": "text/x-python",
   "name": "python",
   "nbconvert_exporter": "python",
   "pygments_lexer": "ipython3",
   "version": "3.10.16"
  }
 },
 "nbformat": 4,
 "nbformat_minor": 2
}
